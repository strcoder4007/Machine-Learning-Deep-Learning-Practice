{
 "cells": [
  {
   "cell_type": "markdown",
   "metadata": {},
   "source": [
    "## Word to Vector"
   ]
  },
  {
   "cell_type": "code",
   "execution_count": 6,
   "metadata": {},
   "outputs": [],
   "source": [
    "import numpy as np"
   ]
  },
  {
   "cell_type": "code",
   "execution_count": 7,
   "metadata": {},
   "outputs": [],
   "source": [
    "def read_glove_vecs(glove_file):\n",
    "    with open(glove_file, 'r') as f:\n",
    "        words = set()\n",
    "        word_to_vec_map = {}\n",
    "        for line in f:\n",
    "            line = line.strip().split()\n",
    "            curr_word = line[0]\n",
    "            words.add(curr_word)\n",
    "            word_to_vec_map[curr_word] = np.array(line[1:], dtype=np.float64)\n",
    "    return words, word_to_vec_map"
   ]
  },
  {
   "cell_type": "code",
   "execution_count": 8,
   "metadata": {},
   "outputs": [],
   "source": [
    "words, word_to_vec_map = read_glove_vecs(\"../../datasets/glove.6B.50d.txt\")"
   ]
  },
  {
   "cell_type": "code",
   "execution_count": 9,
   "metadata": {},
   "outputs": [
    {
     "data": {
      "text/plain": [
       "(400000, 400000)"
      ]
     },
     "execution_count": 9,
     "metadata": {},
     "output_type": "execute_result"
    }
   ],
   "source": [
    "len(word_to_vec_map), len(words)"
   ]
  },
  {
   "cell_type": "code",
   "execution_count": 10,
   "metadata": {},
   "outputs": [],
   "source": [
    "def cosine_similarity(u, v):\n",
    "    distance = 0.0\n",
    "    dot = np.dot(u, v)\n",
    "    norm_u = np.sqrt(np.sum(u * u))\n",
    "    norm_v = np.sqrt(np.sum(v * v))\n",
    "\n",
    "    cosine_similarity = dot / (norm_u * norm_v)\n",
    "    return cosine_similarity"
   ]
  },
  {
   "cell_type": "code",
   "execution_count": 11,
   "metadata": {},
   "outputs": [
    {
     "name": "stdout",
     "output_type": "stream",
     "text": [
      "Cosine similarity(father, mother):  0.8909038442893616\n",
      "Cosine Similarity(france, italy):  0.7788637392080091\n",
      "Cosine Similarity(fuck, me):  0.5681076495901356\n"
     ]
    }
   ],
   "source": [
    "father  = word_to_vec_map['father']\n",
    "mother = word_to_vec_map['mother']\n",
    "france = word_to_vec_map['france']\n",
    "italy = word_to_vec_map['italy']\n",
    "paris = word_to_vec_map['paris']\n",
    "rome = word_to_vec_map['rome']\n",
    "fuck = word_to_vec_map['fuck']\n",
    "me = word_to_vec_map['me']\n",
    "\n",
    "print('Cosine similarity(father, mother): ', cosine_similarity(father, mother))\n",
    "print('Cosine Similarity(france, italy): ', cosine_similarity(france, italy))\n",
    "print('Cosine Similarity(fuck, me): ', cosine_similarity(fuck, me))"
   ]
  },
  {
   "cell_type": "code",
   "execution_count": 12,
   "metadata": {},
   "outputs": [],
   "source": [
    "def complete_analogy(word_a, word_b, word_c):\n",
    "    min_distance = 1000\n",
    "    selected_word = None\n",
    "    distance_1 = cosine_similarity(word_to_vec_map[word_a], word_to_vec_map[word_b])\n",
    "    words.remove(word_c)\n",
    "    for word in words:\n",
    "        distance_2 = cosine_similarity(word_to_vec_map[word_c], word_to_vec_map[word])\n",
    "        if (distance_1 - distance_2) < min_distance:\n",
    "            min_distance = distance_1 - distance_2\n",
    "            selected_word = word\n",
    "    return selected_word"
   ]
  },
  {
   "cell_type": "code",
   "execution_count": 13,
   "metadata": {},
   "outputs": [
    {
     "name": "stdout",
     "output_type": "stream",
     "text": [
      "italy -> italian :: spain -> portugal\n",
      "india -> delhi :: japan -> japanese\n",
      "man -> woman :: boy -> girl\n",
      "small -> smaller :: large -> small\n"
     ]
    }
   ],
   "source": [
    "triads_to_try = [('italy', 'italian', 'spain'), ('india', 'delhi', 'japan'), ('man', 'woman', 'boy'), ('small', 'smaller', 'large')]\n",
    "for triad in triads_to_try:\n",
    "    print ('{} -> {} :: {} -> {}'.format( *triad, complete_analogy(*triad)))"
   ]
  },
  {
   "cell_type": "code",
   "execution_count": null,
   "metadata": {},
   "outputs": [],
   "source": []
  }
 ],
 "metadata": {
  "kernelspec": {
   "display_name": "Python 3 (ipykernel)",
   "language": "python",
   "name": "python3"
  },
  "language_info": {
   "codemirror_mode": {
    "name": "ipython",
    "version": 3
   },
   "file_extension": ".py",
   "mimetype": "text/x-python",
   "name": "python",
   "nbconvert_exporter": "python",
   "pygments_lexer": "ipython3",
   "version": "3.11.7"
  }
 },
 "nbformat": 4,
 "nbformat_minor": 2
}
