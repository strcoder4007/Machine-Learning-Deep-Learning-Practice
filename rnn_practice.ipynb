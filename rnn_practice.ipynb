{
 "cells": [
  {
   "cell_type": "markdown",
   "metadata": {},
   "source": [
    "<h2>Recurrent Neural Network from Scratch Practice</h2>"
   ]
  },
  {
   "cell_type": "code",
   "execution_count": 8,
   "metadata": {},
   "outputs": [],
   "source": [
    "import numpy as np"
   ]
  },
  {
   "cell_type": "markdown",
   "metadata": {},
   "source": [
    "<h3>Utility Functions</h3>"
   ]
  },
  {
   "cell_type": "code",
   "execution_count": 9,
   "metadata": {},
   "outputs": [],
   "source": [
    "def sigmoid(x):\n",
    "    return 1 / (1 + np.exp(-x))\n",
    "\n",
    "def softmax(x):\n",
    "    e_x = np.exp(x - np.max(x))\n",
    "    return e_x / e_x.sum(axis=0)"
   ]
  },
  {
   "cell_type": "markdown",
   "metadata": {},
   "source": [
    "<h3>Initialize weights and biases</h3>"
   ]
  },
  {
   "cell_type": "code",
   "execution_count": 10,
   "metadata": {},
   "outputs": [],
   "source": [
    "np.random.seed(42)\n",
    "\n",
    "x_input = np.random.randn(3, 10)\n",
    "a_prev = np.random.randn(5, 10)\n",
    "\n",
    "parameters = {}\n",
    "parameters['Waa'] = np.random.randn(5, 5)\n",
    "parameters['Wax'] = np.random.randn(5, 3)\n",
    "parameters['ba'] = np.random.randn(5, 1)\n",
    "parameters['Wya'] = np.random.randn(2, 5)\n",
    "parameters['by'] = np.random.randn(2, 1)\n"
   ]
  },
  {
   "cell_type": "code",
   "execution_count": 11,
   "metadata": {},
   "outputs": [],
   "source": [
    "def rnn_cell(x, a, parameters):\n",
    "    Waa = parameters['Waa']\n",
    "    Wax = parameters['Wax']\n",
    "    Wya = parameters['Wya']\n",
    "    ba = parameters['ba']\n",
    "    by = parameters['by']\n",
    "\n",
    "    a_next = np.tanh(np.dot(Waa, a) + np.dot(Wax, x) + ba)\n",
    "    y_pred = softmax(np.dot(Wya, a_next) + by)\n",
    "    cache = (a_next, y_pred, x, parameters)\n",
    "    return a_next, y_pred, cache"
   ]
  },
  {
   "cell_type": "code",
   "execution_count": 12,
   "metadata": {},
   "outputs": [
    {
     "name": "stdout",
     "output_type": "stream",
     "text": [
      "(5, 10)\n"
     ]
    }
   ],
   "source": [
    "a_next, yt_pred, cache = rnn_cell(x_input, a_prev, parameters)\n",
    "print(a_next.shape)"
   ]
  },
  {
   "cell_type": "markdown",
   "metadata": {},
   "source": [
    "<h3>RNN Forward</h3>"
   ]
  },
  {
   "cell_type": "code",
   "execution_count": 13,
   "metadata": {},
   "outputs": [],
   "source": [
    "def rnn_forward(x, a0, parameters):\n",
    "    caches = []\n",
    "    n_x, m, T_x = x.shape\n",
    "    n_y, n_a = parameters['Wya'].shape\n",
    "\n",
    "    a = np.zeros([n_a, m, T_x])\n",
    "    y_pred = np.zeros([n_y, m, T_x])\n",
    "\n",
    "    a_next = a0\n",
    "\n",
    "    for t in range(T_x):\n",
    "        a_next, yt_pred, cache = rnn_cell(x[:, :, t], a_next, parameters)\n",
    "        a[:, :, t] = a_next\n",
    "        y_pred[:, :, t] = yt_pred\n",
    "        caches.append(cache)\n",
    "\n",
    "    caches = (caches, x)\n",
    "    return a, y_pred, caches"
   ]
  },
  {
   "cell_type": "code",
   "execution_count": 14,
   "metadata": {},
   "outputs": [
    {
     "name": "stdout",
     "output_type": "stream",
     "text": [
      "(5, 10, 5)\n"
     ]
    }
   ],
   "source": [
    "np.random.seed(42)\n",
    "\n",
    "a = np.random.randn(3, 10, 5)\n",
    "x = np.random.randn(5, 10)\n",
    "\n",
    "parameters = {}\n",
    "parameters['Waa'] = np.random.randn(5, 5)\n",
    "parameters['Wax'] = np.random.randn(5, 3)\n",
    "parameters['Wya'] = np.random.randn(2, 5)\n",
    "parameters['ba'] = np.random.randn(5, 1)\n",
    "parameters['by'] = np.random.randn(2, 1)\n",
    "\n",
    "a, y, cache = rnn_forward(a, x, parameters)\n",
    "\n",
    "print(a.shape)"
   ]
  },
  {
   "cell_type": "markdown",
   "metadata": {},
   "source": [
    "<h3>LSTM Implmentation</h3>"
   ]
  },
  {
   "cell_type": "code",
   "execution_count": 15,
   "metadata": {},
   "outputs": [],
   "source": [
    "def lstm_cell(xt, a_prev, c_prev, parameters):\n",
    "    Wf = parameters['Wf']\n",
    "    bf = parameters['bf']\n",
    "    Wi = parameters['Wi']\n",
    "    bi = parameters['bi']\n",
    "    Wo = parameters['Wo']\n",
    "    bo = parameters['bo']\n",
    "    Wc = parameters['Wc']\n",
    "    bc = parameters['bc']\n",
    "    Wy = parameters['Wy']\n",
    "    by = parameters['by']\n",
    "\n",
    "    n_x, m = xt.shape\n",
    "    n_y, n_a = Wy.shape\n",
    "\n",
    "    concat = np.zeros([n_x + n_a, m])\n",
    "    concat[: n_a, :] = a_prev\n",
    "    concat[n_a :, :] = xt\n",
    "\n",
    "    # ft = sigmoid(Wf*concatenate(a<t-1>, x<t>) + bf)\n",
    "    ft = sigmoid(np.dot(Wf, concat) + bf)\n",
    "    it = sigmoid(np.dot(Wi, concat) + bi)\n",
    "    cct = np.tanh(np.dot(Wc, concat) + bc)\n",
    "    c_next = ft * c_prev + it * cct\n",
    "    ot = sigmoid(np.dot(Wo, concat) + bo)\n",
    "    a_next = ot * np.tanh(c_next)\n",
    "\n",
    "    yt_pred = softmax(np.dot(Wy, a_next) + by)\n",
    "\n",
    "    cache = (a_next, c_next, a_prev, c_prev, ft, it, cct, ot, xt, parameters)\n",
    "\n",
    "    return a_next, c_next, yt_pred, cache\n"
   ]
  },
  {
   "cell_type": "code",
   "execution_count": 17,
   "metadata": {},
   "outputs": [
    {
     "name": "stdout",
     "output_type": "stream",
     "text": [
      "(5, 10)\n"
     ]
    }
   ],
   "source": [
    "np.random.seed(42)\n",
    "\n",
    "xt_tmp = np.random.randn(3, 10)\n",
    "a_prev_tmp = np.random.randn(5, 10)\n",
    "c_prev_tmp = np.random.randn(5, 10)\n",
    "\n",
    "parameters_tmp = {}\n",
    "parameters_tmp['Wf'] = np.random.randn(5, 5+3)\n",
    "parameters_tmp['Wi'] = np.random.randn(5, 5+3)\n",
    "parameters_tmp['Wo'] = np.random.randn(5, 5+3)\n",
    "parameters_tmp['Wc'] = np.random.randn(5, 5+3)\n",
    "parameters_tmp['Wy'] = np.random.randn(2, 5)\n",
    "parameters_tmp['bf'] = np.random.randn(5, 1)\n",
    "parameters_tmp['bi'] = np.random.randn(5, 1)\n",
    "parameters_tmp['bo'] = np.random.randn(5, 1)\n",
    "parameters_tmp['bc'] = np.random.randn(5, 1)\n",
    "parameters_tmp['by'] = np.random.randn(2, 1)\n",
    "\n",
    "\n",
    "a_next_tmp, c_next_tmp, yt_tmp, cache_tmp = lstm_cell(xt_tmp, a_prev_tmp, c_prev_tmp, parameters_tmp)\n",
    "\n",
    "print(a_next.shape)"
   ]
  },
  {
   "cell_type": "code",
   "execution_count": null,
   "metadata": {},
   "outputs": [],
   "source": [
    "def lstm_forward(x, a0, parameters):\n",
    "    caches = []\n",
    "\n",
    "    Wy = parameters['Wy']\n",
    "\n",
    "    n_x, m, T_x = x.shape\n",
    "    n_y, n_a = Wy.shape\n",
    "\n",
    "    a = np.zeros([n_a, m, T_x])\n",
    "    c = np.zeros([n_a, m, T_x])\n",
    "    y = np.zeros([n_y, m, T_x])\n",
    "\n",
    "    a_next = a0"
   ]
  },
  {
   "cell_type": "code",
   "execution_count": null,
   "metadata": {},
   "outputs": [],
   "source": [
    "np.random.seed(42)\n",
    "\n",
    "x_tmp = np.random.randn(3, 10, 7)\n",
    "a0_tmp = np.random.randn(5, 10)\n",
    "\n",
    "parameters_tmp = {}\n",
    "parameters_tmp['Wf'] = np.random.randn(5, 5+3)\n",
    "parameters_tmp['Wi'] = np.random.randn(5, 5+3)\n",
    "parameters_tmp['Wo'] = np.random.randn(5, 5+3)\n",
    "parameters_tmp['Wc'] = np.random.randn(5, 5+3)\n",
    "parameters_tmp['Wy'] = np.random.randn(2, 5)\n",
    "parameters_tmp['bf'] = np.random.randn(5, 1)\n",
    "parameters_tmp['bi'] = np.random.randn(5, 1)\n",
    "parameters_tmp['bo'] = np.random.randn(5, 1)\n",
    "parameters_tmp['bc'] = np.random.randn(5, 1)\n",
    "parameters_tmp['by'] = np.random.randn(2, 1)\n",
    "\n",
    "a_tmp, y_tmp, c_tmp, caches_tmp = lstm_forward(x_tmp, a0_tmp, parameters_tmp)\n",
    "print(a_tmp.shape)"
   ]
  }
 ],
 "metadata": {
  "kernelspec": {
   "display_name": "Python 3 (ipykernel)",
   "language": "python",
   "name": "python3"
  },
  "language_info": {
   "codemirror_mode": {
    "name": "ipython",
    "version": 3
   },
   "file_extension": ".py",
   "mimetype": "text/x-python",
   "name": "python",
   "nbconvert_exporter": "python",
   "pygments_lexer": "ipython3",
   "version": "3.10.12"
  }
 },
 "nbformat": 4,
 "nbformat_minor": 2
}
