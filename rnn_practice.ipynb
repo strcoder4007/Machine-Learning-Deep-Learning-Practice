{
 "cells": [
  {
   "cell_type": "markdown",
   "metadata": {},
   "source": [
    "<h2>Recurrent Neural Network from Scratch Practice</h2>"
   ]
  },
  {
   "cell_type": "code",
   "execution_count": 39,
   "metadata": {},
   "outputs": [],
   "source": [
    "import numpy as np"
   ]
  },
  {
   "cell_type": "markdown",
   "metadata": {},
   "source": [
    "<h3>Utility Functions</h3>"
   ]
  },
  {
   "cell_type": "code",
   "execution_count": 40,
   "metadata": {},
   "outputs": [],
   "source": [
    "def sigmoid(x):\n",
    "    return 1 / (1 + np.exp(-x))\n",
    "\n",
    "def softmax(x):\n",
    "    e_x = np.exp(x - np.max(x))\n",
    "    return e_x / e_x.sum(axis=0)"
   ]
  },
  {
   "cell_type": "markdown",
   "metadata": {},
   "source": [
    "<h3>Initialize weights and biases</h3>"
   ]
  },
  {
   "cell_type": "code",
   "execution_count": 41,
   "metadata": {},
   "outputs": [],
   "source": [
    "np.random.seed(42)\n",
    "\n",
    "x_input = np.random.randn(3, 10)\n",
    "a_prev = np.random.randn(5, 10)\n",
    "\n",
    "parameters = {}\n",
    "parameters['Waa'] = np.random.randn(5, 5)\n",
    "parameters['Wax'] = np.random.randn(5, 3)\n",
    "parameters['ba'] = np.random.randn(5, 1)\n",
    "parameters['Wya'] = np.random.randn(2, 5)\n",
    "parameters['by'] = np.random.randn(2, 1)\n"
   ]
  },
  {
   "cell_type": "code",
   "execution_count": 42,
   "metadata": {},
   "outputs": [],
   "source": [
    "def rnn_cell(x, a, parameters):\n",
    "    Waa = parameters['Waa']\n",
    "    Wax = parameters['Wax']\n",
    "    Wya = parameters['Wya']\n",
    "    ba = parameters['ba']\n",
    "    by = parameters['by']\n",
    "\n",
    "    a_next = np.tanh(np.dot(Waa, a) + np.dot(Wax, x) + ba)\n",
    "    y_pred = softmax(np.dot(Wya, a_next) + by)\n",
    "    cache = (a_next, y_pred, x, parameters)\n",
    "    return a_next, y_pred, cache"
   ]
  },
  {
   "cell_type": "code",
   "execution_count": 43,
   "metadata": {},
   "outputs": [
    {
     "name": "stdout",
     "output_type": "stream",
     "text": [
      "(5, 10)\n"
     ]
    }
   ],
   "source": [
    "a_next, yt_pred, cache = rnn_cell(x_input, a_prev, parameters)\n",
    "print(a_next.shape)"
   ]
  },
  {
   "cell_type": "markdown",
   "metadata": {},
   "source": [
    "<h3>RNN Forward</h3>"
   ]
  },
  {
   "cell_type": "code",
   "execution_count": 44,
   "metadata": {},
   "outputs": [],
   "source": [
    "def rnn_forward(x, a0, parameters):\n",
    "    caches = []\n",
    "    n_x, m, T_x = x.shape\n",
    "    n_y, n_a = parameters['Wya'].shape\n",
    "\n",
    "    a = np.zeros([n_a, m, T_x])\n",
    "    y_pred = np.zeros([n_y, m, T_x])\n",
    "\n",
    "    a_next = a0\n",
    "\n",
    "    for t in range(T_x):\n",
    "        a_next, yt_pred, cache = rnn_cell(x[:, :, t], a_next, parameters)\n",
    "        a[:, :, t] = a_next\n",
    "        y_pred[:, :, t] = yt_pred\n",
    "        caches.append(cache)\n",
    "\n",
    "    caches = (caches, x)\n",
    "    return a, y_pred, caches"
   ]
  },
  {
   "cell_type": "code",
   "execution_count": 45,
   "metadata": {},
   "outputs": [
    {
     "name": "stdout",
     "output_type": "stream",
     "text": [
      "(5, 10, 5)\n"
     ]
    }
   ],
   "source": [
    "np.random.seed(42)\n",
    "\n",
    "a = np.random.randn(3, 10, 5)\n",
    "x = np.random.randn(5, 10)\n",
    "\n",
    "parameters = {}\n",
    "parameters['Waa'] = np.random.randn(5, 5)\n",
    "parameters['Wax'] = np.random.randn(5, 3)\n",
    "parameters['Wya'] = np.random.randn(2, 5)\n",
    "parameters['ba'] = np.random.randn(5, 1)\n",
    "parameters['by'] = np.random.randn(2, 1)\n",
    "\n",
    "a, y, cache = rnn_forward(a, x, parameters)\n",
    "\n",
    "print(a.shape)"
   ]
  },
  {
   "cell_type": "markdown",
   "metadata": {},
   "source": [
    "<h3>LSTM Implmentation</h3>"
   ]
  },
  {
   "cell_type": "markdown",
   "metadata": {},
   "source": []
  }
 ],
 "metadata": {
  "kernelspec": {
   "display_name": "Python 3 (ipykernel)",
   "language": "python",
   "name": "python3"
  },
  "language_info": {
   "codemirror_mode": {
    "name": "ipython",
    "version": 3
   },
   "file_extension": ".py",
   "mimetype": "text/x-python",
   "name": "python",
   "nbconvert_exporter": "python",
   "pygments_lexer": "ipython3",
   "version": "3.10.12"
  }
 },
 "nbformat": 4,
 "nbformat_minor": 2
}
