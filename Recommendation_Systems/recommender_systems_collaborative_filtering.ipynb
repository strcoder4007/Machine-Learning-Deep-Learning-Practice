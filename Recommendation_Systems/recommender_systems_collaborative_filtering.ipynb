{
 "cells": [
  {
   "cell_type": "markdown",
   "metadata": {},
   "source": [
    "## Recommender Systems Collaborative Filtering "
   ]
  },
  {
   "cell_type": "code",
   "execution_count": 1,
   "metadata": {},
   "outputs": [
    {
     "name": "stderr",
     "output_type": "stream",
     "text": [
      "2024-07-16 10:11:05.356103: I tensorflow/core/platform/cpu_feature_guard.cc:210] This TensorFlow binary is optimized to use available CPU instructions in performance-critical operations.\n",
      "To enable the following instructions: AVX2 FMA, in other operations, rebuild TensorFlow with the appropriate compiler flags.\n",
      "2024-07-16 10:11:07.747478: W tensorflow/compiler/tf2tensorrt/utils/py_utils.cc:38] TF-TRT Warning: Could not find TensorRT\n"
     ]
    }
   ],
   "source": [
    "import numpy as np\n",
    "from numpy import loadtxt\n",
    "import tensorflow as tf\n",
    "from tensorflow import keras\n",
    "import matplotlib.pyplot as plt\n",
    "\n",
    "%matplotlib inline"
   ]
  },
  {
   "cell_type": "code",
   "execution_count": 2,
   "metadata": {},
   "outputs": [],
   "source": [
    "class rs:\n",
    "    dataset_path = '../../datasets/recommendation_systems/'\n",
    "\n",
    "    @staticmethod\n",
    "    def load_data():\n",
    "        file = open(rs.dataset_path + 'small_movies_X.csv', 'rb')\n",
    "        X = loadtxt(file, delimiter=\",\")\n",
    "\n",
    "        file = open(rs.dataset_path + 'small_movies_W.csv', 'rb')\n",
    "        W = loadtxt(file, delimiter=\",\")\n",
    "\n",
    "        file = open(rs.dataset_path + 'small_movies_b.csv', 'rb')\n",
    "        b = loadtxt(file, delimiter=\",\")\n",
    "\n",
    "        b = b.reshape(1, -1)\n",
    "\n",
    "        num_movies, num_features = X.shape\n",
    "        num_users, _ = W.shape\n",
    "        return (X, W, b, num_movies, num_features, num_users)\n",
    "\n",
    "    @staticmethod\n",
    "    def load_ratings():\n",
    "        file = open(rs.dataset_path + 'small_movies_Y.csv', 'rb')\n",
    "        Y = loadtxt(file, delimiter=\",\")\n",
    "\n",
    "        file = open(rs.dataset_path + 'small_movies_R.csv', 'rb')\n",
    "        R = loadtxt(file, delimiter=\",\")\n",
    "\n",
    "        return Y, R\n",
    "    \n",
    "    \n",
    "    def cofi_cost_func(W, X, b, Y, R, lambda_):\n",
    "        nm, nu = Y.shape\n",
    "        J = 0\n",
    "        for j in range(nu):\n",
    "            w = W[j, :]\n",
    "            b_j = b[0, j]\n",
    "\n",
    "            for i in range(nm):\n",
    "                x = X[i, :]\n",
    "                y = Y[i, j]\n",
    "                r = R[i, j]\n",
    "                J += np.square(r * ((np.dot(w, x) + b) - y))\n",
    "\n",
    "        J /= 2\n",
    "        J += (lambda_/2) * (np.sum(np.square(W)) + np.sum(np.square(X)))\n",
    "\n",
    "        return J\n",
    "    \n",
    "    def cofi_cost_func_v(X, W, b, Y, R, lambda_):\n",
    "        \"\"\"\n",
    "        Returns the cost for the content-based filtering\n",
    "        Vectorized for speed. Uses tensorflow operations to be compatible with custom training loop.\n",
    "        Args:\n",
    "        X (ndarray (num_movies,num_features)): matrix of item features\n",
    "        W (ndarray (num_users,num_features)) : matrix of user parameters\n",
    "        b (ndarray (1, num_users)            : vector of user parameters\n",
    "        Y (ndarray (num_movies,num_users)    : matrix of user ratings of movies\n",
    "        R (ndarray (num_movies,num_users)    : matrix, where R(i, j) = 1 if the i-th movies was rated by the j-th user\n",
    "        lambda_ (float): regularization parameter\n",
    "        Returns:\n",
    "        J (float) : Cost\n",
    "        \"\"\"\n",
    "        j = (tf.linalg.matmul(X, tf.transpose(W)) + b - Y)*R\n",
    "        J = 0.5 * tf.reduce_sum(j**2) + (lambda_/2) * (tf.reduce_sum(X**2) + tf.reduce_sum(W**2))\n",
    "        return J\n"
   ]
  },
  {
   "cell_type": "code",
   "execution_count": 3,
   "metadata": {},
   "outputs": [],
   "source": [
    "X, W, b, num_movies, num_features, num_users = rs.load_data()\n",
    "Y, R = rs.load_ratings()"
   ]
  },
  {
   "cell_type": "code",
   "execution_count": 4,
   "metadata": {},
   "outputs": [
    {
     "name": "stdout",
     "output_type": "stream",
     "text": [
      "Cost: 13.67\n"
     ]
    },
    {
     "name": "stderr",
     "output_type": "stream",
     "text": [
      "2024-07-16 10:11:12.700983: I external/local_xla/xla/stream_executor/cuda/cuda_executor.cc:984] could not open file to read NUMA node: /sys/bus/pci/devices/0000:01:00.0/numa_node\n",
      "Your kernel may have been built without NUMA support.\n",
      "2024-07-16 10:11:13.178279: W tensorflow/core/common_runtime/gpu/gpu_device.cc:2251] Cannot dlopen some GPU libraries. Please make sure the missing libraries mentioned above are installed properly if you would like to use GPU. Follow the guide at https://www.tensorflow.org/install/gpu for how to download and setup the required libraries for your platform.\n",
      "Skipping registering GPU devices...\n"
     ]
    }
   ],
   "source": [
    "num_users_r = 4\n",
    "num_movies_r = 5\n",
    "num_features_r = 3\n",
    "\n",
    "\n",
    "X_r = X[:num_movies_r, :num_features_r]\n",
    "W_r = W[:num_users_r, :num_features_r]\n",
    "b_r = b[0, :num_users_r].reshape(1, -1)\n",
    "Y_r = Y[:num_movies_r, :num_users_r]\n",
    "R_r = R[:num_movies_r, :num_users_r]\n",
    "\n",
    "# Evaluate cost function\n",
    "J = rs.cofi_cost_func_v(X_r, W_r, b_r, Y_r, R_r, 0)\n",
    "print(f\"Cost: {J:0.2f}\")"
   ]
  }
 ],
 "metadata": {
  "kernelspec": {
   "display_name": "Python 3 (ipykernel)",
   "language": "python",
   "name": "python3"
  },
  "language_info": {
   "codemirror_mode": {
    "name": "ipython",
    "version": 3
   },
   "file_extension": ".py",
   "mimetype": "text/x-python",
   "name": "python",
   "nbconvert_exporter": "python",
   "pygments_lexer": "ipython3",
   "version": "3.10.12"
  }
 },
 "nbformat": 4,
 "nbformat_minor": 2
}
