{
 "cells": [
  {
   "cell_type": "markdown",
   "metadata": {},
   "source": [
    "## Recommender Systems Collaborative Filtering "
   ]
  },
  {
   "cell_type": "code",
   "execution_count": null,
   "metadata": {},
   "outputs": [
    {
     "ename": "",
     "evalue": "",
     "output_type": "error",
     "traceback": [
      "\u001b[1;31mRunning cells with 'tf (Python 3.12.4)' requires the ipykernel package.\n",
      "\u001b[1;31mRun the following command to install 'ipykernel' into the Python environment. \n",
      "\u001b[1;31mCommand: 'conda install -n tf ipykernel --update-deps --force-reinstall'"
     ]
    }
   ],
   "source": [
    "import numpy as np\n",
    "from numpy import loadtxt\n",
    "import tensorflow as tf\n",
    "from tensorflow import keras\n",
    "import matplotlib.pyplot as plt\n",
    "\n",
    "%matplotlib inline"
   ]
  },
  {
   "cell_type": "code",
   "execution_count": null,
   "metadata": {},
   "outputs": [
    {
     "ename": "",
     "evalue": "",
     "output_type": "error",
     "traceback": [
      "\u001b[1;31mRunning cells with 'tf (Python 3.12.4)' requires the ipykernel package.\n",
      "\u001b[1;31mRun the following command to install 'ipykernel' into the Python environment. \n",
      "\u001b[1;31mCommand: 'conda install -n tf ipykernel --update-deps --force-reinstall'"
     ]
    }
   ],
   "source": [
    "class rs:\n",
    "    dataset_path = '../../datasets/recommendation_systems/'\n",
    "\n",
    "    @staticmethod\n",
    "    def load_data():\n",
    "        file = open(rs.dataset_path + 'small_movies_X.csv', 'rb')\n",
    "        X = loadtxt(file, delimiter=\",\")\n",
    "\n",
    "        file = open(rs.dataset_path + 'small_movies_W.csv', 'rb')\n",
    "        W = loadtxt(file, delimiter=\",\")\n",
    "\n",
    "        file = open(rs.dataset_path + 'small_movies_b.csv', 'rb')\n",
    "        b = loadtxt(file, delimiter=\",\")\n",
    "\n",
    "        b = b.reshape(1, -1)\n",
    "\n",
    "        num_movies, num_features = X.shape\n",
    "        num_users, _ = W.shape\n",
    "        return (X, W, b, num_movies, num_features, num_users)\n",
    "\n",
    "    @staticmethod\n",
    "    def load_ratings():\n",
    "        file = open(rs.dataset_path + 'small_movies_Y.csv', 'rb')\n",
    "        Y = loadtxt(file, delimiter=\",\")\n",
    "\n",
    "        file = open(rs.dataset_path + 'small_movies_R.csv', 'rb')\n",
    "        R = loadtxt(file, delimiter=\",\")\n",
    "\n",
    "        return Y, R\n",
    "    \n",
    "    \n",
    "    def cofi_cost_func(W, X, b, Y, R, lambda_):\n",
    "        nm, nu = Y.shape\n",
    "        J = 0\n",
    "        for j in range(nu):\n",
    "            w = W[j, :]\n",
    "            b_j = b[0, j]\n",
    "\n",
    "            for i in range(nm):\n",
    "                x = X[i, :]\n",
    "                y = Y[i, j]\n",
    "                r = R[i, j]\n",
    "                J += np.square(r * ((np.dot(w, x) + b) - y))\n",
    "\n",
    "        J /= 2\n",
    "        J += (lambda_/2) * (np.sum(np.square(W)) + np.sum(np.square(X)))\n",
    "\n",
    "        return J\n",
    "    \n",
    "    def cofi_cost_func_v(X, W, b, Y, R, lambda_):\n",
    "        \"\"\"\n",
    "        Returns the cost for the content-based filtering\n",
    "        Vectorized for speed. Uses tensorflow operations to be compatible with custom training loop.\n",
    "        Args:\n",
    "        X (ndarray (num_movies,num_features)): matrix of item features\n",
    "        W (ndarray (num_users,num_features)) : matrix of user parameters\n",
    "        b (ndarray (1, num_users)            : vector of user parameters\n",
    "        Y (ndarray (num_movies,num_users)    : matrix of user ratings of movies\n",
    "        R (ndarray (num_movies,num_users)    : matrix, where R(i, j) = 1 if the i-th movies was rated by the j-th user\n",
    "        lambda_ (float): regularization parameter\n",
    "        Returns:\n",
    "        J (float) : Cost\n",
    "        \"\"\"\n",
    "        j = (tf.linalg.matmul(X, tf.transpose(W)) + b - Y)*R\n",
    "        J = 0.5 * tf.reduce_sum(j**2) + (lambda_/2) * (tf.reduce_sum(X**2) + tf.reduce_sum(W**2))\n",
    "        return J\n"
   ]
  },
  {
   "cell_type": "code",
   "execution_count": null,
   "metadata": {},
   "outputs": [
    {
     "ename": "",
     "evalue": "",
     "output_type": "error",
     "traceback": [
      "\u001b[1;31mRunning cells with 'tf (Python 3.12.4)' requires the ipykernel package.\n",
      "\u001b[1;31mRun the following command to install 'ipykernel' into the Python environment. \n",
      "\u001b[1;31mCommand: 'conda install -n tf ipykernel --update-deps --force-reinstall'"
     ]
    }
   ],
   "source": [
    "X, W, b, num_movies, num_features, num_users = rs.load_data()\n",
    "Y, R = rs.load_ratings()"
   ]
  },
  {
   "cell_type": "code",
   "execution_count": null,
   "metadata": {},
   "outputs": [
    {
     "ename": "",
     "evalue": "",
     "output_type": "error",
     "traceback": [
      "\u001b[1;31mRunning cells with 'tf (Python 3.12.4)' requires the ipykernel package.\n",
      "\u001b[1;31mRun the following command to install 'ipykernel' into the Python environment. \n",
      "\u001b[1;31mCommand: 'conda install -n tf ipykernel --update-deps --force-reinstall'"
     ]
    }
   ],
   "source": [
    "num_users_r = 4\n",
    "num_movies_r = 5\n",
    "num_features_r = 3\n",
    "\n",
    "\n",
    "X_r = X[:num_movies_r, :num_features_r]\n",
    "W_r = W[:num_users_r, :num_features_r]\n",
    "b_r = b[0, :num_users_r].reshape(1, -1)\n",
    "Y_r = Y[:num_movies_r, :num_users_r]\n",
    "R_r = R[:num_movies_r, :num_users_r]\n",
    "\n",
    "# Evaluate cost function\n",
    "J = rs.cofi_cost_func_v(X_r, W_r, b_r, Y_r, R_r, 0)\n",
    "print(f\"Cost: {J:0.2f}\")"
   ]
  },
  {
   "cell_type": "markdown",
   "metadata": {},
   "source": [
    "### Learning Movie Recommendations"
   ]
  },
  {
   "cell_type": "code",
   "execution_count": null,
   "metadata": {},
   "outputs": [
    {
     "ename": "",
     "evalue": "",
     "output_type": "error",
     "traceback": [
      "\u001b[1;31mRunning cells with 'tf (Python 3.12.4)' requires the ipykernel package.\n",
      "\u001b[1;31mRun the following command to install 'ipykernel' into the Python environment. \n",
      "\u001b[1;31mCommand: 'conda install -n tf ipykernel --update-deps --force-reinstall'"
     ]
    }
   ],
   "source": []
  }
 ],
 "metadata": {
  "kernelspec": {
   "display_name": "Python 3 (ipykernel)",
   "language": "python",
   "name": "python3"
  },
  "language_info": {
   "codemirror_mode": {
    "name": "ipython",
    "version": 3
   },
   "file_extension": ".py",
   "mimetype": "text/x-python",
   "name": "python",
   "nbconvert_exporter": "python",
   "pygments_lexer": "ipython3",
   "version": "3.12.4"
  }
 },
 "nbformat": 4,
 "nbformat_minor": 2
}
