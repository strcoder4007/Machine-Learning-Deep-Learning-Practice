{
 "cells": [
  {
   "cell_type": "markdown",
   "metadata": {},
   "source": [
    "## Recommender Systems Collaborative Filtering "
   ]
  },
  {
   "cell_type": "code",
   "execution_count": 1,
   "metadata": {},
   "outputs": [
    {
     "name": "stderr",
     "output_type": "stream",
     "text": [
      "2024-07-02 23:37:09.828524: I tensorflow/core/platform/cpu_feature_guard.cc:210] This TensorFlow binary is optimized to use available CPU instructions in performance-critical operations.\n",
      "To enable the following instructions: AVX2 FMA, in other operations, rebuild TensorFlow with the appropriate compiler flags.\n",
      "2024-07-02 23:37:11.184655: W tensorflow/compiler/tf2tensorrt/utils/py_utils.cc:38] TF-TRT Warning: Could not find TensorRT\n"
     ]
    }
   ],
   "source": [
    "import numpy as np\n",
    "from numpy import loadtxt\n",
    "import tensorflow as tf\n",
    "from tensorflow import keras\n",
    "import matplotlib.pyplot as plt\n",
    "\n",
    "%matplotlib inline"
   ]
  },
  {
   "cell_type": "code",
   "execution_count": 7,
   "metadata": {},
   "outputs": [],
   "source": [
    "class recommendation_systems:\n",
    "    def load_data():\n",
    "        file = open('../../datasets/recommendation_systems/small_movies_X.csv', 'rb')\n",
    "        X = loadtxt(file, delimiter=\",\")\n",
    "\n",
    "        file = open('../../datasets/recommendation_systems/small_movies_W.csv', 'rb')\n",
    "        W = loadtxt(file, delimiter=\",\")\n",
    "\n",
    "        file = open('../../datasets/recommendation_systems/small_movies_b.csv', 'rb')\n",
    "        b = loadtxt(file, delimiter=\",\")\n",
    "\n",
    "        b = b.reshape(1, -1)\n",
    "\n",
    "        num_movies, num_features = X.shape\n",
    "        num_users, _ = W.shape\n",
    "        return (X, W, b, num_movies, num_features, num_users)\n",
    "\n",
    "    def load_ratings():\n",
    "        file = open('../../datasets/recommendation_systems/small_movies_Y.csv', 'rb')\n",
    "        Y = loadtxt(file, delimiter=\",\")\n",
    "\n",
    "        file = open('../../datasets/recommendation_systems/small_movies_R.csv', 'rb')\n",
    "        R = loadtxt(file, delimiter=\",\")\n",
    "\n",
    "        return Y, R"
   ]
  },
  {
   "cell_type": "code",
   "execution_count": 8,
   "metadata": {},
   "outputs": [],
   "source": [
    "X, W, b, num_movies, num_features, num_users = recommendation_systems.load_data()\n",
    "Y, R = recommendation_systems.load_ratings()"
   ]
  },
  {
   "cell_type": "code",
   "execution_count": null,
   "metadata": {},
   "outputs": [],
   "source": []
  }
 ],
 "metadata": {
  "kernelspec": {
   "display_name": "Python 3 (ipykernel)",
   "language": "python",
   "name": "python3"
  },
  "language_info": {
   "codemirror_mode": {
    "name": "ipython",
    "version": 3
   },
   "file_extension": ".py",
   "mimetype": "text/x-python",
   "name": "python",
   "nbconvert_exporter": "python",
   "pygments_lexer": "ipython3",
   "version": "3.10.12"
  }
 },
 "nbformat": 4,
 "nbformat_minor": 2
}
