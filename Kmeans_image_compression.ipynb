{
 "cells": [
  {
   "cell_type": "markdown",
   "metadata": {},
   "source": [
    "## K-Means Image compression from scratch practice tensorflow"
   ]
  },
  {
   "cell_type": "code",
   "execution_count": null,
   "metadata": {},
   "outputs": [],
   "source": [
    "import numpy as np\n",
    "import matplotlib.pyplot as plt\n",
    "\n",
    "%matplotlib inline"
   ]
  },
  {
   "cell_type": "code",
   "execution_count": null,
   "metadata": {},
   "outputs": [],
   "source": [
    "def load_data():\n",
    "    data = np.load('../datasets/kmeans_image_compression.npy')\n",
    "    return data"
   ]
  },
  {
   "cell_type": "code",
   "execution_count": 25,
   "metadata": {},
   "outputs": [
    {
     "name": "stdout",
     "output_type": "stream",
     "text": [
      "[[0. 0.]]\n",
      "[1.84207953 4.6075716 ]\n"
     ]
    }
   ],
   "source": [
    "temp = load_data()\n",
    "\n",
    "temmm = np.zeros((1, 2))\n",
    "\n",
    "print(temmm)\n",
    "\n",
    "temmm = temp[0]\n",
    "\n",
    "print(temmm)"
   ]
  },
  {
   "cell_type": "code",
   "execution_count": 17,
   "metadata": {},
   "outputs": [],
   "source": [
    "\n",
    "def initialize_centroids(X, k):\n",
    "    X_min = np.min(X[:, 0])\n",
    "    X_max = np.max(X[:, 0])\n",
    "\n",
    "    Y_min = np.min(X[:, 1])\n",
    "    Y_max = np.max(X[:, 1])\n",
    "\n",
    "    print(X_min, X_max)\n",
    "\n",
    "    centroids = np.zeros((k, X.shape[1]))\n",
    "    for i in range(k):\n",
    "        x = np.random.uniform(X_min, X_max)\n",
    "        y = np.random.uniform(Y_min, Y_max)\n",
    "        centroids.append([x, y])\n",
    "    return centroids\n",
    "\n",
    "def calulate_loss(data, centroids):\n",
    "    \n",
    "    return\n",
    "\n"
   ]
  },
  {
   "cell_type": "markdown",
   "metadata": {},
   "source": [
    "### Implementing Kmeans"
   ]
  },
  {
   "cell_type": "code",
   "execution_count": 28,
   "metadata": {},
   "outputs": [
    {
     "name": "stdout",
     "output_type": "stream",
     "text": [
      "-0.24512712766170175 8.203398153359817\n"
     ]
    },
    {
     "ename": "AttributeError",
     "evalue": "'list' object has no attribute 'shape'",
     "output_type": "error",
     "traceback": [
      "\u001b[0;31m---------------------------------------------------------------------------\u001b[0m",
      "\u001b[0;31mAttributeError\u001b[0m                            Traceback (most recent call last)",
      "Cell \u001b[0;32mIn[28], line 35\u001b[0m\n\u001b[1;32m     33\u001b[0m \u001b[38;5;28;01mfor\u001b[39;00m i \u001b[38;5;129;01min\u001b[39;00m \u001b[38;5;28mrange\u001b[39m(X\u001b[38;5;241m.\u001b[39mshape[\u001b[38;5;241m0\u001b[39m]):\n\u001b[1;32m     34\u001b[0m     distance \u001b[38;5;241m=\u001b[39m []\n\u001b[0;32m---> 35\u001b[0m     \u001b[38;5;28;01mfor\u001b[39;00m j \u001b[38;5;129;01min\u001b[39;00m \u001b[38;5;28mrange\u001b[39m(\u001b[38;5;28mlen\u001b[39m(\u001b[43mcentroids\u001b[49m\u001b[38;5;241;43m.\u001b[39;49m\u001b[43mshape\u001b[49m[\u001b[38;5;241m0\u001b[39m])):\n\u001b[1;32m     36\u001b[0m         norm \u001b[38;5;241m=\u001b[39m np\u001b[38;5;241m.\u001b[39mlinalg\u001b[38;5;241m.\u001b[39mnorm(X[i] \u001b[38;5;241m-\u001b[39m centroids[j])\n\u001b[1;32m     37\u001b[0m         distance\u001b[38;5;241m.\u001b[39mappend(norm)\n",
      "\u001b[0;31mAttributeError\u001b[0m: 'list' object has no attribute 'shape'"
     ]
    }
   ],
   "source": [
    "'''\n",
    "Initialize K (number of clusters)\n",
    "cost_array = []\n",
    "Iterate through K:\n",
    "    lowest cost = 10000\n",
    "    Initialize that number of centroids N times:\n",
    "        while (centroid is moving):\n",
    "            Calculate the loss function\n",
    "            Group the data to the centroid they are closest to\n",
    "            take mean in every group\n",
    "            if (centroids === means):\n",
    "                break\n",
    "            centroids = means\n",
    "        calculate cost\n",
    "        if (cur_cost < lowest_cost):\n",
    "            cur_cost = lowest_cost\n",
    "    cost_array.push(lowest_cost)\n",
    "\n",
    "Plot the elbow graph and select the value of K and its cost\n",
    "'''\n",
    "\n",
    "K = 7\n",
    "iterations = 100\n",
    "cost_array = []\n",
    "X = load_data()\n",
    "\n",
    "for k in range(1, K+1):\n",
    "    lowest_cost = 100000\n",
    "    for iteration in range(iterations):\n",
    "        centroids = initialize_centroids(X, k)\n",
    "        X_centroids = np.zeros(X.shape[0])\n",
    "        while(True):\n",
    "            for i in range(X.shape[0]):\n",
    "                distance = []\n",
    "                for j in range(len(centroids.shape[0])):\n",
    "                    norm = np.linalg.norm(X[i] - centroids[j])\n",
    "                    distance.append(norm)\n",
    "\n",
    "                X_centroids[i] = np.argmin(distance)\n",
    "\n",
    "            ## calculate mean of each cluster\n",
    "            means = np.zeros(range(K))\n",
    "            for kk in range(K):\n",
    "                cluster_mean = np.zeros((1, 2))\n",
    "                for i in range(X.shape[0]):\n",
    "                    cluster_number = X_centroids[i]\n",
    "                    if cluster_number == kk:\n",
    "                        cluster_mean += X[i]\n",
    "                cluster_mean = cluster_mean / X.shape[0]\n",
    "                means.append(cluster_mean)\n",
    "\n",
    "            if np.allclose(centroids, means):\n",
    "                break\n",
    "            else:\n",
    "                centroids = means\n",
    "\n",
    "        # ## calculate cost of the final centroids\n",
    "        # for i in range(X.shape[0]):\n",
    "        #     distance = []\n",
    "        #     for j in range(len(centroids.shape[0])):\n",
    "        #         norm = np.linalg.norm(X[i] - centroids[j])\n",
    "        #         distance.append(norm)\n",
    "        \n",
    "                \n",
    "\n"
   ]
  },
  {
   "cell_type": "code",
   "execution_count": null,
   "metadata": {},
   "outputs": [],
   "source": []
  }
 ],
 "metadata": {
  "kernelspec": {
   "display_name": "Python 3",
   "language": "python",
   "name": "python3"
  },
  "language_info": {
   "codemirror_mode": {
    "name": "ipython",
    "version": 3
   },
   "file_extension": ".py",
   "mimetype": "text/x-python",
   "name": "python",
   "nbconvert_exporter": "python",
   "pygments_lexer": "ipython3",
   "version": "3.10.12"
  }
 },
 "nbformat": 4,
 "nbformat_minor": 2
}
